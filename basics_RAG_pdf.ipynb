{
 "cells": [
  {
   "cell_type": "markdown",
   "id": "ad9b4b85-9d17-468c-b244-73a1c5191e3e",
   "metadata": {},
   "source": [
    "# RAG application built on gemini "
   ]
  },
  {
   "cell_type": "code",
   "execution_count": 1,
   "id": "7d49c22a-1ad0-4395-b93b-aa95660aa026",
   "metadata": {},
   "outputs": [],
   "source": [
    "from langchain_community.document_loaders import PyPDFLoader\n",
    "\n",
    "loader = PyPDFLoader(\"CerboTech Chatbot doc (3).pdf\")\n",
    "data = loader.load()  # entire PDF is loaded as a single Document\n",
    "# data"
   ]
  },
  {
   "cell_type": "code",
   "execution_count": 2,
   "id": "a374eb7c-e262-42bb-8f3f-308ba7dcdbe4",
   "metadata": {},
   "outputs": [
    {
     "data": {
      "text/plain": [
       "35"
      ]
     },
     "execution_count": 2,
     "metadata": {},
     "output_type": "execute_result"
    }
   ],
   "source": [
    "len(data)"
   ]
  },
  {
   "cell_type": "code",
   "execution_count": 3,
   "id": "29633e3b-ff24-4ace-a09b-c03b6e28c5cc",
   "metadata": {},
   "outputs": [
    {
     "name": "stdout",
     "output_type": "stream",
     "text": [
      "Total number of documents:  94\n"
     ]
    }
   ],
   "source": [
    "from langchain.text_splitter import RecursiveCharacterTextSplitter\n",
    "\n",
    "# split data\n",
    "text_splitter = RecursiveCharacterTextSplitter(chunk_size=1000)\n",
    "docs = text_splitter.split_documents(data)\n",
    "\n",
    "\n",
    "print(\"Total number of documents: \",len(docs))"
   ]
  },
  {
   "cell_type": "code",
   "execution_count": 4,
   "id": "100b7d1a-1209-49d4-99ed-c51bc233a938",
   "metadata": {},
   "outputs": [
    {
     "data": {
      "text/plain": [
       "Document(metadata={'source': 'CerboTech Chatbot doc (3).pdf', 'page': 1}, page_content='Game\\n \\nMode:\\n \\nThoughtful\\n \\nKeywords:\\n \\nnumbers,\\n \\npuzzle,\\n \\nthinking,\\n \\nlogic,\\n \\nstrategy ,\\n \\ndynamic,\\n \\nchallenge,\\n \\ncognitive\\n \\nflexibility ,\\n \\nproblem-solving,\\n \\ndecision-making,\\n \\nprocessing,\\n \\nhigh\\n \\nscore\\n \\n \\nGame\\n \\n2:\\n \\nAlphaQuest\\n \\nTagline:\\n \\nUnlock\\n \\nthe\\n \\nWord\\n \\nwith\\n \\nthe\\n \\nFewest\\n \\nMoves!\\n \\nDescription:\\n \\nUncover\\n \\nhidden\\n \\npatterns\\n \\nand\\n \\ncomplete\\n \\nthe\\n \\nquest!\\n \\nThis\\n \\ngame\\n \\ntests\\n \\nyour\\n \\nstrategic\\n \\nthinking\\n \\nand\\n \\npattern\\n \\nrecognition\\n \\nskills,\\n \\nwhile\\n \\nimproving\\n \\ncognitive\\n \\nflexibility .\\n \\nImproves:\\n \\nQuick\\n \\nThinking,\\n \\nProblem-Solving\\n \\nGame\\n \\nType:\\n \\nAlphabet\\n \\nSkill\\n \\nFocus:\\n \\nLogic\\n \\nGame\\n \\nMode:\\n \\nFun\\n \\nKeywords:\\n \\nwords,\\n \\nalphabet,\\n \\npuzzle,\\n \\npatterns,\\n \\nstrategy ,\\n \\nlogic,\\n \\nquick\\n \\nthinking,\\n \\nproblem-solving,\\n \\ncognitive\\n \\nflexibility ,\\n \\nfun\\n \\nGame\\n \\n3:\\n \\nStackUp\\n \\nTagline:\\n \\nThe\\n \\nHigher\\n \\nYou\\n \\nGo,\\n \\nthe\\n \\nHarder\\n \\nIt\\n \\nGets!\\n \\nDescription:\\n \\nBalance,\\n \\nstack,\\n \\nand\\n \\nalign\\n \\nwith\\n \\nprecision!\\n \\nTest\\n \\nyour\\n \\ntiming\\n \\nand\\n \\nreaction\\n \\nspeed')"
      ]
     },
     "execution_count": 4,
     "metadata": {},
     "output_type": "execute_result"
    }
   ],
   "source": [
    "docs[3]"
   ]
  },
  {
   "cell_type": "code",
   "execution_count": 5,
   "id": "1073ab7f-2632-4367-8dec-c19449d6ce71",
   "metadata": {},
   "outputs": [
    {
     "name": "stderr",
     "output_type": "stream",
     "text": [
      "C:\\Users\\sneha\\anaconda3\\envs\\langchain_gemini_env\\lib\\site-packages\\tqdm\\auto.py:21: TqdmWarning: IProgress not found. Please update jupyter and ipywidgets. See https://ipywidgets.readthedocs.io/en/stable/user_install.html\n",
      "  from .autonotebook import tqdm as notebook_tqdm\n"
     ]
    },
    {
     "data": {
      "text/plain": [
       "[0.05168594419956207,\n",
       " -0.030764883384108543,\n",
       " -0.03062233328819275,\n",
       " -0.02802734263241291,\n",
       " 0.01813093200325966]"
      ]
     },
     "execution_count": 5,
     "metadata": {},
     "output_type": "execute_result"
    }
   ],
   "source": [
    "from langchain_chroma import Chroma\n",
    "from langchain_google_genai import GoogleGenerativeAIEmbeddings\n",
    "\n",
    "from dotenv import load_dotenv\n",
    "load_dotenv() \n",
    "\n",
    "#Get an API key: \n",
    "# Head to https://ai.google.dev/gemini-api/docs/api-key to generate a Google AI API key. Paste in .env file\n",
    "\n",
    "# Embedding models: https://python.langchain.com/v0.1/docs/integrations/text_embedding/\n",
    "\n",
    "embeddings = GoogleGenerativeAIEmbeddings(model=\"models/embedding-001\")\n",
    "vector = embeddings.embed_query(\"hello, world!\")\n",
    "vector[:5]\n",
    "#vector"
   ]
  },
  {
   "cell_type": "code",
   "execution_count": 6,
   "id": "688b6e6a-d8ab-41fb-a665-b72c9c9b4026",
   "metadata": {},
   "outputs": [],
   "source": [
    "vectorstore = Chroma.from_documents(documents=docs, embedding=GoogleGenerativeAIEmbeddings(model=\"models/embedding-001\"))"
   ]
  },
  {
   "cell_type": "code",
   "execution_count": 7,
   "id": "2c674c5c-1b57-42e9-a99d-9e882c75da2d",
   "metadata": {},
   "outputs": [],
   "source": [
    "retriever = vectorstore.as_retriever(search_type=\"similarity\", search_kwargs={\"k\": 10})\n",
    "\n",
    "retrieved_docs = retriever.invoke(\"What is NeurOm?\")\n"
   ]
  },
  {
   "cell_type": "code",
   "execution_count": 8,
   "id": "04c5c6bb-fd0e-45ec-b315-e3f7656e0329",
   "metadata": {},
   "outputs": [
    {
     "data": {
      "text/plain": [
       "10"
      ]
     },
     "execution_count": 8,
     "metadata": {},
     "output_type": "execute_result"
    }
   ],
   "source": [
    "len(retrieved_docs)"
   ]
  },
  {
   "cell_type": "code",
   "execution_count": 9,
   "id": "8a1c8321-1efd-4a11-9744-0d1a7c6f4e0a",
   "metadata": {},
   "outputs": [
    {
     "name": "stdout",
     "output_type": "stream",
     "text": [
      "here\n",
      " \n",
      "to\n",
      " \n",
      "help\n",
      " \n",
      "you\n",
      " \n",
      "discover\n",
      " \n",
      "the\n",
      " \n",
      "games\n",
      " \n",
      "and\n",
      " \n",
      "activities\n",
      " \n",
      "that\n",
      " \n",
      "best\n",
      " \n",
      "suit\n",
      " \n",
      "your\n",
      " \n",
      "current\n",
      " \n",
      "needs,\n",
      " \n",
      "whether\n",
      " \n",
      "you're\n",
      " \n",
      "looking\n",
      " \n",
      "to\n",
      " \n",
      "de-stress,\n",
      " \n",
      "sharpen\n",
      " \n",
      "your\n",
      " \n",
      "mind,\n",
      " \n",
      "find\n",
      " \n",
      "a\n",
      " \n",
      "particular\n",
      " \n",
      "breathing\n",
      " \n",
      "technique,\n",
      " \n",
      "or\n",
      " \n",
      "just\n",
      " \n",
      "explore\n",
      " \n",
      "what\n",
      " \n",
      "we\n",
      " \n",
      "offer.\n",
      " \n",
      "Q10:\n",
      " \n",
      "Does\n",
      " \n",
      "NeurOm\n",
      " \n",
      "track\n",
      " \n",
      "my\n",
      " \n",
      "progress?\n",
      " \n",
      "A10:\n",
      " \n",
      "Yes,\n",
      " \n",
      "NeurOm\n",
      " \n",
      "helps\n",
      " \n",
      "you\n",
      " \n",
      "keep\n",
      " \n",
      "track\n",
      " \n",
      "of\n",
      " \n",
      "your\n",
      " \n",
      "journey!\n",
      " \n",
      "You\n",
      " \n",
      "can\n",
      " \n",
      "visit\n",
      " \n",
      "the\n",
      " \n",
      "\"My\n",
      " \n",
      "Performance\"\n",
      " \n",
      "section\n",
      " \n",
      "to\n",
      " \n",
      "see\n",
      " \n",
      "things\n",
      " \n",
      "like\n",
      " \n",
      "your\n",
      " \n",
      "total\n",
      " \n",
      "Points\n",
      " \n",
      "Rewarded\n",
      " \n",
      "–\n",
      " \n",
      "we\n",
      " \n",
      "award\n",
      " \n",
      "specific\n",
      " \n",
      "points\n",
      " \n",
      "for\n",
      " \n",
      "each\n",
      " \n",
      "game\n",
      " \n",
      "and\n",
      " \n",
      "activity\n",
      " \n",
      "you\n",
      " \n",
      "complete\n",
      " \n",
      "–\n",
      " \n",
      "your\n",
      " \n",
      "Rank\n",
      " \n",
      "Achieved\n",
      ",\n",
      " \n",
      "how\n",
      " \n",
      "many\n",
      " \n",
      "activities\n",
      " \n",
      "you've\n",
      " \n",
      "performed,\n",
      " \n",
      "and\n",
      " \n",
      "games\n",
      " \n",
      "you've\n",
      " \n",
      "played.\n",
      " \n",
      "It's\n",
      " \n",
      "a\n",
      " \n",
      "great\n",
      " \n",
      "way\n",
      " \n",
      "to\n",
      " \n",
      "see\n",
      " \n",
      "your\n",
      " \n",
      "engagement\n",
      " \n",
      "and\n",
      " \n",
      "achievements!\n",
      " \n",
      "Q11:\n",
      " \n",
      "Are\n",
      " \n",
      "there\n",
      " \n",
      "different\n",
      " \n",
      "difficulty\n",
      " \n",
      "levels\n",
      " \n",
      "for\n",
      " \n",
      "the\n",
      " \n",
      "games?\n",
      " \n",
      "A11:\n",
      " \n",
      "Many\n",
      " \n",
      "of\n",
      " \n",
      "our\n",
      " \n",
      "games,\n",
      " \n",
      "like\n",
      " \n",
      "NumberStorm\n",
      " \n",
      "or\n",
      " \n",
      "StackUp,\n",
      " \n",
      "naturally\n",
      " \n",
      "increase\n",
      " \n",
      "in\n",
      " \n",
      "difficulty\n",
      " \n",
      "as\n",
      " \n",
      "you\n"
     ]
    }
   ],
   "source": [
    "print(retrieved_docs[5].page_content)"
   ]
  },
  {
   "cell_type": "code",
   "execution_count": 10,
   "id": "7f991a1f-6ce9-4463-9941-b35014df94f6",
   "metadata": {},
   "outputs": [],
   "source": [
    "from langchain_google_genai import ChatGoogleGenerativeAI\n",
    "\n",
    "llm = ChatGoogleGenerativeAI(model=\"gemini-1.5-flash-latest\")"
   ]
  },
  {
   "cell_type": "code",
   "execution_count": 11,
   "id": "6ee17439-7bc3-4931-9f57-4ec7e82ce902",
   "metadata": {},
   "outputs": [],
   "source": [
    "from langchain.chains import create_retrieval_chain\n",
    "from langchain.chains.combine_documents import create_stuff_documents_chain\n",
    "from langchain_core.prompts import ChatPromptTemplate\n",
    "\n",
    "system_prompt = (\n",
    "    \"You are an assistant for question-answering tasks. \"\n",
    "    \"Use the following pieces of retrieved context to answer \"\n",
    "    \"the question. If you don't know the answer, say that you \"\n",
    "    \"don't know. Use three sentences maximum and keep the \"\n",
    "    \"answer concise.\"\n",
    "    \"\\n\\n\"\n",
    "    \"{context}\"\n",
    ")\n",
    "\n",
    "prompt = ChatPromptTemplate.from_messages(\n",
    "    [\n",
    "        (\"system\", system_prompt),\n",
    "        (\"human\", \"{input}\"),\n",
    "    ] \n",
    ")"
   ]
  },
  {
   "cell_type": "code",
   "execution_count": 12,
   "id": "266e86e0-746b-4943-9470-fd842633ed85",
   "metadata": {},
   "outputs": [],
   "source": [
    "question_answer_chain = create_stuff_documents_chain(llm, prompt)\n",
    "rag_chain = create_retrieval_chain(retriever, question_answer_chain)"
   ]
  },
  {
   "cell_type": "code",
   "execution_count": 13,
   "id": "9db9500d-4c51-4a10-9b21-f1ef9c8f985e",
   "metadata": {},
   "outputs": [
    {
     "name": "stdout",
     "output_type": "stream",
     "text": [
      "NeurOm's core purpose is to help users improve their mental well-being and cognitive skills through mindful games and guided activities like meditation and focus exercises.  The app uses a combination of these methods to achieve this goal.\n"
     ]
    }
   ],
   "source": [
    "response = rag_chain.invoke({\"input\": \" what is the Core Purpose\"}) \n",
    "print(response[\"answer\"])"
   ]
  },
  {
   "cell_type": "code",
   "execution_count": null,
   "id": "7cff65d0-2436-47f8-8572-6979a3378701",
   "metadata": {},
   "outputs": [],
   "source": []
  }
 ],
 "metadata": {
  "kernelspec": {
   "display_name": "Python 3 (ipykernel)",
   "language": "python",
   "name": "python3"
  },
  "language_info": {
   "codemirror_mode": {
    "name": "ipython",
    "version": 3
   },
   "file_extension": ".py",
   "mimetype": "text/x-python",
   "name": "python",
   "nbconvert_exporter": "python",
   "pygments_lexer": "ipython3",
   "version": "3.10.16"
  }
 },
 "nbformat": 4,
 "nbformat_minor": 5
}
